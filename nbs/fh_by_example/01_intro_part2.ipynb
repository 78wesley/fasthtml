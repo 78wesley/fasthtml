{
 "cells": [
  {
   "cell_type": "markdown",
   "metadata": {},
   "source": [
    "## Defining Routes\n"
   ]
  },
  {
   "cell_type": "markdown",
   "metadata": {},
   "source": [
    "\n",
    "The HTTP protocol defines a number of methods ('verbs') to send requests to a server. The most common are GET, POST, PUT, DELETE, and HEAD. We saw 'GET' in action before - when you navigate to a URL, you're making a GET request to that URL. We can do different things on a route for different HTTP methods. For example:\n",
    "\n",
    "```python\n",
    "@app.route(\"/\", methods='get')\n",
    "def home():\n",
    "    return H1('Hello, World')\n",
    "\n",
    "@app.route(\"/\", methods=['post', 'put'])\n",
    "def post():\n",
    "    return \"got a post or put request\"\n",
    "```\n",
    "\n",
    "This says that when someone navigates to the root URL \"/\" (i.e. sends a GET request), they will see the big \"Hello, World\" heading. When someone submits a POST or PUT request to the same URL, the server should return the string \"got a post or put request\".\n",
    "\n",
    "Aside: You can test the POST request with `curl -X POST http://127.0.0.1:8000 -d \"some data\"`. This sends some data to the server, you should see the response \"got a post or put request\" printed in the terminal.\n",
    "\n",
    "There are a few other ways you can specify the route+method - FastHTML has `.get`, `.post`, etc. as shorthand for `route(..., methods=['get'])`, etc."
   ]
  },
  {
   "cell_type": "code",
   "execution_count": null,
   "metadata": {},
   "outputs": [],
   "source": [
    "@app.get(\"/\")\n",
    "def my_function():\n",
    "    return \"Hello World from a get request\""
   ]
  },
  {
   "cell_type": "markdown",
   "metadata": {},
   "source": [
    " Or you can use the `@app.route` decorator without a method but specify the method with the name of the function. For example:"
   ]
  },
  {
   "cell_type": "code",
   "execution_count": null,
   "metadata": {},
   "outputs": [],
   "source": [
    "@app.route(\"/\")\n",
    "def post():\n",
    "    return \"Hello World from a post request\""
   ]
  },
  {
   "cell_type": "code",
   "execution_count": null,
   "metadata": {},
   "outputs": [
    {
     "data": {
      "text/plain": [
       "'Hello World from a post request'"
      ]
     },
     "execution_count": null,
     "metadata": {},
     "output_type": "execute_result"
    }
   ],
   "source": [
    "client.post(\"/\").text"
   ]
  },
  {
   "cell_type": "markdown",
   "metadata": {},
   "source": [
    "You're welcome to pick whichever style you prefer. Using routes let's you show different content on different pages - '/home', '/about' and so on. You can also respond differently to different kinds of requests to the same route, as we shown above. You can also pass data via the route:"
   ]
  },
  {
   "cell_type": "code",
   "execution_count": null,
   "metadata": {},
   "outputs": [
    {
     "data": {
      "text/plain": [
       "'Good day to you, dave!'"
      ]
     },
     "execution_count": null,
     "metadata": {},
     "output_type": "execute_result"
    }
   ],
   "source": [
    "@app.get(\"/greet/{nm}\")\n",
    "def greet(nm:str):\n",
    "    return f\"Good day to you, {nm}!\"\n",
    "\n",
    "client.get(\"/greet/dave\").text"
   ]
  },
  {
   "cell_type": "markdown",
   "metadata": {},
   "source": [
    "More on this in the 'More on Routing and Requests' section, which goes deeper into the different ways to get information from a request."
   ]
  },
  {
   "cell_type": "markdown",
   "metadata": {},
   "source": [
    "## Styling Basics\n",
    "\n",
    "Plain HTML probably isn't quite what you imagine when you visualize your beautiful web app. CSS is the go-to language for styling HTML. But again, we don't want to learn extra languages unless we absolutely have to! Fortunately, there are ways to get much more visually appealing sites by relying on the hard work of others, using existing CSS libraries. One of our favourites is [PicoCSS](https://picocss.com/). To add a CSS file to HTML, you can use the `<link>` tag. Since we typically want things like CSS styling on all pages of our app, FastHTML lets you add shared headers when you define your app. And it already has `picolink` defined for convenience. As per the [pico docs](https://picocss.com/docs), we put all of our content inside a `<main>` tag with a class of `container`: \n"
   ]
  },
  {
   "cell_type": "code",
   "execution_count": null,
   "metadata": {},
   "outputs": [],
   "source": [
    "from fasthtml import *\n",
    "# App with custom styling to override the pico defaults\n",
    "css = Style(':root { --pico-font-size: 100%; --pico-font-family: Pacifico, cursive;}')\n",
    "app = FastHTML(hdrs=(picolink, css))\n",
    "\n",
    "@app.route(\"/\")\n",
    "def get():\n",
    "    return Title(\"Hello World\"), Main(H1('Hello, World'), cls=\"container\")"
   ]
  },
  {
   "cell_type": "markdown",
   "metadata": {},
   "source": [
    "Aside: We're returning a tuple here (a title and the main page). This is needed to tell FastHTML to turn the main body into a full HTML page that includes the headers (including the pico link and our custom css) which we passed in."
   ]
  },
  {
   "cell_type": "markdown",
   "metadata": {},
   "source": [
    "You can check out the pico [examples](https://picocss.com/examples) page to see how different elements will look. If everything is working, the page should now render nice text with our custom font, and it should respect the user's light/dark mode preferences too."
   ]
  },
  {
   "cell_type": "markdown",
   "metadata": {},
   "source": [
    "\n",
    "\n",
    "If you want to [override the default styles](https://picocss.com/docs/css-variables) or add more custom CSS, you can do so by adding a `<style>` tag to the headers as shown above. So you are allowed to write CSS to your heart's content - we just want to make sure you don't necessarily have to! Later on we'll see examples using other component libraries and tailwind css to do more fancy styling things, along with tips to get an LLM to write all those fiddly bits so you don't have to."
   ]
  },
  {
   "cell_type": "markdown",
   "metadata": {},
   "source": [
    "## Web Page -> Web App"
   ]
  },
  {
   "cell_type": "markdown",
   "metadata": {},
   "source": [
    "Showing content is all well and good, but we typically expect a bit more *interactivity* from something calling itself a web app! So, let's add a few different pages, and use a form to let users add messages to a list:"
   ]
  },
  {
   "cell_type": "code",
   "execution_count": null,
   "metadata": {},
   "outputs": [],
   "source": [
    "app = FastHTML()\n",
    "messages = [\"This is a message, which will get rendered as a paragraph\"]\n",
    "\n",
    "@app.get(\"/\")\n",
    "def home():\n",
    "    return Main(H1('Messages'), \n",
    "                *[P(msg) for msg in messages],\n",
    "                A(\"Link to Page 2 (to add messages)\", href=\"/page2\"))\n",
    "\n",
    "@app.get(\"/page2\")\n",
    "def page2():\n",
    "    return Main(P(\"Add a message with the form below:\"),\n",
    "                Form(Input(type=\"text\", name=\"data\"),\n",
    "                     Button(\"Submit\"),\n",
    "                     action=\"/\", method=\"post\"))\n",
    "\n",
    "@app.post(\"/\")\n",
    "def add_message(data:str):\n",
    "    messages.append(data)\n",
    "    return home()"
   ]
  },
  {
   "cell_type": "markdown",
   "metadata": {},
   "source": [
    "We re-render the entire homepage to show the newly added message. This is fine, but modern web apps often don't re-render the entire page, they just update a part of the page. In fact even very complicated applications are often implemented as 'Single Page Apps' (SPAs). This is where HTMX comes in."
   ]
  },
  {
   "cell_type": "markdown",
   "metadata": {},
   "source": [
    "## HTMX"
   ]
  },
  {
   "cell_type": "markdown",
   "metadata": {},
   "source": [
    "[HTMX](https://htmx.org/) addresses some key limitations of HTML. In vanilla HTML, links can trigger a GET request to show a new page, and forms can send requests containing data to the server. A lot of 'Web 1.0' design revolved around ways to use these to do everything we wanted. But why should only *some* elements be allowed to trigger requests? And why should we refresh the *entire page* with the result each time one does? HTMX extends HTML to allow us to trigger requests from *any* element on all kinds of events, and to update a part of the page without refreshing the entire page. It's a powerful tool for building modern web apps.\n",
    "\n",
    "It does this by adding attributes to HTML tags to make them do things. For example, here's a page with a counter and a button that increments it:"
   ]
  },
  {
   "cell_type": "code",
   "execution_count": null,
   "metadata": {},
   "outputs": [],
   "source": [
    "app = FastHTML()\n",
    "\n",
    "count = 0\n",
    "\n",
    "@app.get(\"/\")\n",
    "def home():\n",
    "    return Title(\"Count Demo\"), Main(\n",
    "        H1(\"Count Demo\"),\n",
    "        P(f\"Count is set to {count}\", id=\"count\"),\n",
    "        Button(\"Increment\", hx_post=\"/increment\", hx_target=\"#count\", hx_swap=\"innerHTML\")\n",
    "    )\n",
    "\n",
    "@app.post(\"/increment\")\n",
    "def increment():\n",
    "    print(\"incrementing\")\n",
    "    global count\n",
    "    count += 1\n",
    "    return f\"Count is set to {count}\""
   ]
  },
  {
   "cell_type": "markdown",
   "metadata": {},
   "source": [
    "The button triggers a POST request to `/increment` (since we set `hx_post=\"increment\"`), which increments the count and returns the new count. The `hx_target` attribute tells HTMX where to put the result. If no target is specified it replaces the element that triggered the request. The `hx_swap` attribute specifies how it adds the result to the page. Useful options are:\n",
    "\n",
    "- *`innerHTML`*: Replace the target element's content with the result.\n",
    "- *`outerHTML`*: Replace the target element with the result.\n",
    "- *`beforebegin`*: Insert the result before the target element.\n",
    "- *`beforeend`*: Insert the result inside the target element, after its last child.\n",
    "- *`afterbegin`*: Insert the result inside the target element, before its first child.\n",
    "- *`afterend`*: Insert the result after the target element.\n",
    "\n",
    "You can also use an hx_swap of `delete` to delete the target element regardless of response, or of `none` to do nothing.\n",
    "\n",
    "By default, requests are triggered by the “natural” event of an element - click in the case of a button (and most other elements). You can also specify different triggers, along with various modifiers - see the [HTMX docs](https://htmx.org/docs/#triggers) for more.\n",
    "\n",
    "This pattern of having elements trigger requests that modify or replace other elements is a key part of the HTMX philosophy. It takes a little getting used to, but once mastered it is extremely powerful.\n",
    "\n",
    "### Replacing Elements Besides the Target\n",
    "\n",
    "Sometimes having a single target is not enough, and we'd like to specify some additional elements to update or remove. In these cases, returning elements with an id that matches the element to be replaces and `hx_swap_oob='true'` will replace those elements too. We'll use this in the next example to clear an input field when we submit a form."
   ]
  }
 ],
 "metadata": {
  "kernelspec": {
   "display_name": "python3",
   "language": "python",
   "name": "python3"
  }
 },
 "nbformat": 4,
 "nbformat_minor": 2
}
