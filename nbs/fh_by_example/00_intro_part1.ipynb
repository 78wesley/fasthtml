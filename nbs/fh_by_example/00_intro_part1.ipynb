{
 "cells": [
  {
   "cell_type": "markdown",
   "metadata": {},
   "source": [
    "# Basics"
   ]
  },
  {
   "cell_type": "markdown",
   "metadata": {},
   "source": [
    "\n",
    "\n",
    "There are lots of non-FastHTML-specific tricks and patterns involved in building web apps. The goal of this tutorial is to give an alternate introduction to FastHTML, building out example applications to show common patterns and illustrate some of the ways you can build on top of the FastHTML foundations to create your own custom web apps. A secondary goal is to have this be a useful document to add to the context of an LLM to turn it into a useful FastHTML assistant - in fact, in some of the examples we'll see this kind of assistant in action, thanks to [this custom GPT](https://chatgpt.com/g/g-xPqF9SZjM-fasthtml-helper).\n",
    "\n",
    "Let's get started."
   ]
  },
  {
   "cell_type": "markdown",
   "metadata": {},
   "source": [
    "## FastHTML Basics\n",
    "\n",
    "FastHTML is *just python*. You can install it with `pip install python-fasthtml`, and extensions/components built for it can likewise be distriuted via pypi or as simple python files.\n",
    "\n",
    "The core usage of FastHTML is to define routes, and then to define what to do at each route. This is similar to the [FastAPI](https://fastapi.tiangolo.com/) web framework (in fact we implemented much of the fuctionality to match the FastAPI usage examples) but where FastAPI focuses on returning JSON data to build APIs, FastHTML focuses on returning HTML data.\n",
    "\n",
    "Here's a simple FastHTML app that returns a \"Hello, World\" message:"
   ]
  },
  {
   "cell_type": "code",
   "execution_count": null,
   "metadata": {},
   "outputs": [],
   "source": [
    "from fasthtml import FastHTML\n",
    "\n",
    "app = FastHTML()\n",
    "\n",
    "@app.get(\"/\")\n",
    "def home():\n",
    "    return \"<h1>Hello, World</h1>\""
   ]
  },
  {
   "cell_type": "markdown",
   "metadata": {},
   "source": [
    "To run this app, place it in a file, say `app.py`, and then run it with `uvicorn app:app --reload`. You'll see a message like this:\n",
    "```\n",
    "INFO:     Will watch for changes in these directories: ['/home/jonathan/fasthtml-example']\n",
    "INFO:     Uvicorn running on http://127.0.0.1:8000 (Press CTRL+C to quit)\n",
    "INFO:     Started reloader process [871942] using WatchFiles\n",
    "INFO:     Started server process [871945]\n",
    "INFO:     Waiting for application startup.\n",
    "INFO:     Application startup complete.\n",
    "```\n",
    "\n",
    "If you navigate to http://127.0.0.1:8000 in a browser, you'll see your \"Hello, World\". If you edit the `app.py` file and save it, the server will reload and you'll see the updated message when you refresh the page in your browser."
   ]
  },
  {
   "cell_type": "markdown",
   "metadata": {},
   "source": [
    "## Constructing HTML\n",
    "\n",
    "Notice we wrote some HTML in the previous example. We don't want to do that! Some web frameworks require that you learn HTML, CSS, Javascript AND some templating language AND python. We want to do as much as possible with just one language. Fortunately, [fastcore.xml](https://fastcore.fast.ai/xml.html) has all we need for constructing HTML from python, and FastHTML includes all the tags you need to get started. For example:"
   ]
  },
  {
   "cell_type": "code",
   "execution_count": null,
   "metadata": {},
   "outputs": [
    {
     "name": "stdout",
     "output_type": "stream",
     "text": [
      "<!doctype html></!doctype>\n",
      "\n",
      "<html>\n",
      "  <head>\n",
      "    <title>Some page</title>\n",
      "  </head>\n",
      "  <body>\n",
      "    <div class=\"myclass\">\n",
      "Some text, \n",
      "      <a href=\"https://example.com\">A link</a>\n",
      "      <img src=\"https://placehold.co/200\">\n",
      "    </div>\n",
      "  </body>\n",
      "</html>\n",
      "\n"
     ]
    }
   ],
   "source": [
    "from fasthtml.common import *\n",
    "page = Html(\n",
    "    Head(Title('Some page')),\n",
    "    Body(Div('Some text, ', A('A link', href='https://example.com'), Img(src=\"https://placehold.co/200\"), cls='myclass')))\n",
    "print(to_xml(page))"
   ]
  },
  {
   "cell_type": "code",
   "execution_count": null,
   "metadata": {},
   "outputs": [
    {
     "data": {
      "text/html": [
       "<!doctype html></!doctype>\n",
       "\n",
       "<html>\n",
       "  <head>\n",
       "    <title>Some page</title>\n",
       "  </head>\n",
       "  <body>\n",
       "    <div class=\"myclass\">\n",
       "Some text, \n",
       "      <a href=\"https://example.com\">A link</a>\n",
       "      <img src=\"https://placehold.co/200\">\n",
       "    </div>\n",
       "  </body>\n",
       "</html>\n"
      ],
      "text/plain": [
       "<IPython.core.display.HTML object>"
      ]
     },
     "execution_count": null,
     "metadata": {},
     "output_type": "execute_result"
    }
   ],
   "source": [
    "show(page)"
   ]
  },
  {
   "cell_type": "markdown",
   "metadata": {},
   "source": [
    "If that `import *` worries you, you can always import only the tags you need. \n",
    "\n",
    "FastHTML is smart enough to know about fastcore.xml, and so you don't need to use the `to_xml` function to convert your XT objects to HTML. You can just return them as you would any other python object. For example, if we modify our previous example to use fastcore.xml, we can return an XT object directly:"
   ]
  },
  {
   "cell_type": "code",
   "execution_count": null,
   "metadata": {},
   "outputs": [],
   "source": [
    "app = FastHTML()\n",
    "\n",
    "@app.get(\"/\")\n",
    "def home():\n",
    "    return Div(H1('Hello, World'), P('Some text'), P('Some more text'))"
   ]
  },
  {
   "cell_type": "markdown",
   "metadata": {},
   "source": [
    "This will render the HTML in the browser.\n",
    "\n",
    "For debugging, you can right-click on the rendered HTML in the browser and select \"Inspect\" to see the underlying HTML that was generated. There you'll also find the 'network' tab, which shows you the requests that were made to render the page. Refresh and look for the request to `127.0.0.1` - and you'll see it's just a `GET` request to `/`, and the response body is the HTML you just returned."
   ]
  },
  {
   "cell_type": "markdown",
   "metadata": {},
   "source": [
    "You can also use Starlette's `TestClient` to try it out in a notebook: "
   ]
  },
  {
   "cell_type": "code",
   "execution_count": null,
   "metadata": {},
   "outputs": [
    {
     "data": {
      "text/plain": [
       "'<!doctype html></!doctype>\\n\\n<html>\\n  <head>\\n    <title>FastHTML page</title>\\n    <meta charset=\"utf-8\"></meta>\\n    <meta name=\"viewport\" content=\"width=device-width, initial-scale=1, viewport-fit=cover\"></meta>\\n    <script src=\"https://unpkg.com/htmx.org@next/dist/htmx.min.js\"></script>\\n    <script src=\"https://cdn.jsdelivr.net/gh/answerdotai/surreal@1.3.0/surreal.js\"></script>\\n    <script src=\"https://cdn.jsdelivr.net/gh/gnat/css-scope-inline@main/script.js\"></script>\\n  </head>\\n  <body>\\n<div>\\n  <h1>Hello, World</h1>\\n  <p>Some text</p>\\n  <p>Some more text</p>\\n</div>\\n  </body>\\n</html>\\n'"
      ]
     },
     "execution_count": null,
     "metadata": {},
     "output_type": "execute_result"
    }
   ],
   "source": [
    "from starlette.testclient import TestClient\n",
    "client = TestClient(app)\n",
    "r = client.get(\"/\")\n",
    "r.text"
   ]
  },
  {
   "cell_type": "markdown",
   "metadata": {},
   "source": [
    "FastHTML wraps things in an Html tag if you don't do it yourself (unless the request comes from htmx, in which case you get the element directly). \n",
    "See the section 'XT objects and HTML' for more on creating custom components or adding HTML rendering to existing python objects.\n",
    "To give the page a non-default title, return a Title before your main content:"
   ]
  },
  {
   "cell_type": "code",
   "execution_count": null,
   "metadata": {},
   "outputs": [
    {
     "name": "stdout",
     "output_type": "stream",
     "text": [
      "<!doctype html></!doctype>\n",
      "\n",
      "<html>\n",
      "  <head>\n",
      "    <title>Page Demo</title>\n",
      "    <meta charset=\"utf-8\"></meta>\n",
      "    <meta name=\"viewport\" content=\"width=device-width, initial-scale=1, viewport-fit=cover\"></meta>\n",
      "    <script src=\"https://unpkg.com/htmx.org@next/dist/htmx.min.js\"></script>\n",
      "    <script src=\"https://cdn.jsdelivr.net/gh/answerdotai/surreal@1.3.0/surreal.js\"></script>\n",
      "    <script src=\"https://cdn.jsdelivr.net/gh/gnat/css-scope-inline@main/script.js\"></script>\n",
      "  </head>\n",
      "  <body>\n",
      "<div>\n",
      "  <h1>Hello, World</h1>\n",
      "  <p>Some text</p>\n",
      "  <p>Some more text</p>\n",
      "</div>\n",
      "  </body>\n",
      "</html>\n",
      "\n"
     ]
    }
   ],
   "source": [
    "app = FastHTML()\n",
    "\n",
    "@app.get(\"/\")\n",
    "def home():\n",
    "    return Title(\"Page Demo\"), Div(H1('Hello, World'), P('Some text'), P('Some more text'))\n",
    "\n",
    "client = TestClient(app)\n",
    "print(client.get(\"/\").text)"
   ]
  },
  {
   "cell_type": "markdown",
   "metadata": {},
   "source": [
    "We'll use this pattern often in the examples to follow."
   ]
  }
 ],
 "metadata": {
  "kernelspec": {
   "display_name": "python3",
   "language": "python",
   "name": "python3"
  }
 },
 "nbformat": 4,
 "nbformat_minor": 2
}
