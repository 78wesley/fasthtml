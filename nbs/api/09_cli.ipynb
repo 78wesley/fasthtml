{
 "cells": [
  {
   "cell_type": "code",
   "execution_count": null,
   "id": "b73068da",
   "metadata": {},
   "outputs": [],
   "source": [
    "#| default_exp cli"
   ]
  },
  {
   "cell_type": "markdown",
   "id": "27a7e6e2",
   "metadata": {},
   "source": [
    "# Command Line Tools"
   ]
  },
  {
   "cell_type": "code",
   "execution_count": null,
   "id": "acfbc502",
   "metadata": {},
   "outputs": [],
   "source": [
    "#| export\n",
    "from fastcore.utils import *\n",
    "from fastcore.script import call_parse, bool_arg\n",
    "from fasthtml.ft import *\n",
    "from subprocess import check_output, run\n",
    "import pathlib\n",
    "import importlib\n",
    "import httpx\n",
    "import json"
   ]
  },
  {
   "cell_type": "code",
   "execution_count": null,
   "id": "11d71cfc",
   "metadata": {},
   "outputs": [],
   "source": [
    "#| export\n",
    "@call_parse\n",
    "def railway_link():\n",
    "    \"Link the current directory to the current project's Railway service\"\n",
    "    j = json.loads(check_output(\"railway status --json\".split()))\n",
    "    prj = j['id']\n",
    "    idxpath = 'edges', 0, 'node', 'id'\n",
    "    env = nested_idx(j, 'environments', *idxpath)\n",
    "    svc = nested_idx(j, 'services', *idxpath)\n",
    "\n",
    "    cmd = f\"railway link -e {env} -p {prj} -s {svc}\"\n",
    "    res = check_output(cmd.split())"
   ]
  },
  {
   "cell_type": "code",
   "execution_count": null,
   "id": "586830f6",
   "metadata": {},
   "outputs": [],
   "source": [
    "#| export\n",
    "def _run(a, **kw):\n",
    "    print('#', ' '.join(a))\n",
    "    run(a)"
   ]
  },
  {
   "cell_type": "code",
   "execution_count": null,
   "id": "b84fd5ff",
   "metadata": {},
   "outputs": [],
   "source": [
    "#| export\n",
    "@call_parse\n",
    "def railway_deploy(\n",
    "    name:str, # The project name to deploy\n",
    "    mount:bool_arg=True # Create a mounted volume at /app/data?\n",
    "):\n",
    "    \"\"\"Deploy a FastHTML app to Railway\"\"\"\n",
    "    nm,ver = check_output(\"railway --version\".split()).decode().split()\n",
    "    assert nm=='railwayapp', f'Unexpected railway version string: {nm}'\n",
    "    if ver2tuple(ver)<(3,8): return print(\"Please update your railway CLI version to 3.8 or higher\")\n",
    "    cp = run(\"railway status --json\".split(), capture_output=True)\n",
    "    if not cp.returncode: return print(\"This project is already deployed. Run `railway open`.\")\n",
    "    reqs = Path('requirements.txt')\n",
    "    if not reqs.exists(): reqs.write_text('python-fasthtml')\n",
    "    _run(f\"railway init -n {name}\".split())\n",
    "    _run(f\"railway up -c\".split())\n",
    "    _run(f\"railway domain\".split())\n",
    "    railway_link.__wrapped__()\n",
    "    if mount: _run(f\"railway volume add -m /app/data\".split())\n",
    "    _run(f\"railway up -c\".split())"
   ]
  },
  {
   "cell_type": "code",
   "execution_count": null,
   "id": "21d6ade7",
   "metadata": {},
   "outputs": [],
   "source": [
    "\n",
    "def _airplane_tags(hdr: tuple, link_attr, asset_path):\n",
    "    try:\n",
    "        # print(hdr[2]['src'])\n",
    "        script = httpx.get(hdr[2][link_attr])\n",
    "    except httpx.HTTPError:\n",
    "        script = ''\n",
    "    fname = hdr[2][link_attr].split('/')[-1]\n",
    "    fpath = Path(asset_path) / Path(fname)\n",
    "    fpath.write_text(script)\n",
    "    hdr[2][link_attr] = f\"/{str(fpath)}\"\n",
    "    return hdr\n"
   ]
  },
  {
   "cell_type": "code",
   "execution_count": null,
   "id": "bf244dff",
   "metadata": {},
   "outputs": [],
   "source": [
    "test_assets_dir = pathlib.Path('test-airplane-assets')\n",
    "test_assets_dir.mkdir(exist_ok=True)\n",
    "_airplane_tags(Link(rel='stylesheet', href='https://cdn.jsdelivr.net/npm/sakura.css/css/sakura.css', type='text/css'), 'href', 'tests-airplane-assets')\n",
    "[x.unlink() for x in test_assets_dir.glob('*.*')]\n",
    "test_assets_dir.rmdir()\n"
   ]
  },
  {
   "cell_type": "code",
   "execution_count": null,
   "id": "b7184a00",
   "metadata": {},
   "outputs": [],
   "source": [
    "test_assets_dir.mkdir(exist_ok=True)\n",
    "_airplane_tags(Script(src='/airplane-assets/htmx.min.js'), 'src', 'test-airplane-assets')\n",
    "[x.unlink() for x in test_assets_dir.glob('*.*')]\n",
    "test_assets_dir.rmdir()"
   ]
  },
  {
   "cell_type": "code",
   "execution_count": null,
   "id": "31e4c677",
   "metadata": {},
   "outputs": [],
   "source": [
    "#| export\n",
    "@call_parse\n",
    "def airplane_mode(app: str = \"main:app\", asset_dir: str = 'airplane-assets'):\n",
    "    module_name, app_name = app.split(':')\n",
    "    module = importlib.import_module(module_name)\n",
    "    app = getattr(module, app_name)\n",
    "    pathlib.Path(asset_dir).mkdir(exist_ok=True)\n",
    "    hdrs = []\n",
    "    for hdr in app.router.hdrs:\n",
    "        if hdr[0] == 'script': hdrs.append(_airplane_tags(hdr, 'src', asset_dir))\n",
    "        if hdr[0] == 'link': hdrs.append(_airplane_tags(hdr, 'href', asset_dir))\n",
    "    print(hdrs)"
   ]
  },
  {
   "cell_type": "code",
   "execution_count": null,
   "id": "a5bc22f8",
   "metadata": {},
   "outputs": [
    {
     "ename": "TypeError",
     "evalue": "the 'package' argument is required to perform a relative import for '.main'",
     "output_type": "error",
     "traceback": [
      "\u001b[0;31m---------------------------------------------------------------------------\u001b[0m",
      "\u001b[0;31mTypeError\u001b[0m                                 Traceback (most recent call last)",
      "Cell \u001b[0;32mIn[44], line 1\u001b[0m\n\u001b[0;32m----> 1\u001b[0m hdrs \u001b[38;5;241m=\u001b[39m \u001b[43mairplane_mode\u001b[49m\u001b[43m(\u001b[49m\u001b[38;5;124;43m'\u001b[39;49m\u001b[38;5;124;43m.main:app\u001b[39;49m\u001b[38;5;124;43m'\u001b[39;49m\u001b[43m)\u001b[49m\n",
      "File \u001b[0;32m~/.virtualenvs/fasthtml-blog/lib/python3.12/site-packages/fastcore/script.py:110\u001b[0m, in \u001b[0;36mcall_parse.<locals>._f\u001b[0;34m(*args, **kwargs)\u001b[0m\n\u001b[1;32m    107\u001b[0m \u001b[38;5;129m@wraps\u001b[39m(func)\n\u001b[1;32m    108\u001b[0m \u001b[38;5;28;01mdef\u001b[39;00m \u001b[38;5;21m_f\u001b[39m(\u001b[38;5;241m*\u001b[39margs, \u001b[38;5;241m*\u001b[39m\u001b[38;5;241m*\u001b[39mkwargs):\n\u001b[1;32m    109\u001b[0m     mod \u001b[38;5;241m=\u001b[39m inspect\u001b[38;5;241m.\u001b[39mgetmodule(inspect\u001b[38;5;241m.\u001b[39mcurrentframe()\u001b[38;5;241m.\u001b[39mf_back)\n\u001b[0;32m--> 110\u001b[0m     \u001b[38;5;28;01mif\u001b[39;00m \u001b[38;5;129;01mnot\u001b[39;00m mod: \u001b[38;5;28;01mreturn\u001b[39;00m \u001b[43mfunc\u001b[49m\u001b[43m(\u001b[49m\u001b[38;5;241;43m*\u001b[39;49m\u001b[43margs\u001b[49m\u001b[43m,\u001b[49m\u001b[43m \u001b[49m\u001b[38;5;241;43m*\u001b[39;49m\u001b[38;5;241;43m*\u001b[39;49m\u001b[43mkwargs\u001b[49m\u001b[43m)\u001b[49m\n\u001b[1;32m    111\u001b[0m     \u001b[38;5;28;01mif\u001b[39;00m \u001b[38;5;129;01mnot\u001b[39;00m SCRIPT_INFO\u001b[38;5;241m.\u001b[39mfunc \u001b[38;5;129;01mand\u001b[39;00m mod\u001b[38;5;241m.\u001b[39m\u001b[38;5;18m__name__\u001b[39m\u001b[38;5;241m==\u001b[39m\u001b[38;5;124m\"\u001b[39m\u001b[38;5;124m__main__\u001b[39m\u001b[38;5;124m\"\u001b[39m: SCRIPT_INFO\u001b[38;5;241m.\u001b[39mfunc \u001b[38;5;241m=\u001b[39m func\u001b[38;5;241m.\u001b[39m\u001b[38;5;18m__name__\u001b[39m\n\u001b[1;32m    112\u001b[0m     \u001b[38;5;28;01mif\u001b[39;00m \u001b[38;5;28mlen\u001b[39m(sys\u001b[38;5;241m.\u001b[39margv)\u001b[38;5;241m>\u001b[39m\u001b[38;5;241m1\u001b[39m \u001b[38;5;129;01mand\u001b[39;00m sys\u001b[38;5;241m.\u001b[39margv[\u001b[38;5;241m1\u001b[39m]\u001b[38;5;241m==\u001b[39m\u001b[38;5;124m'\u001b[39m\u001b[38;5;124m'\u001b[39m: sys\u001b[38;5;241m.\u001b[39margv\u001b[38;5;241m.\u001b[39mpop(\u001b[38;5;241m1\u001b[39m)\n",
      "Cell \u001b[0;32mIn[39], line 5\u001b[0m, in \u001b[0;36mairplane_mode\u001b[0;34m(app, asset_dir)\u001b[0m\n\u001b[1;32m      2\u001b[0m \u001b[38;5;129m@call_parse\u001b[39m\n\u001b[1;32m      3\u001b[0m \u001b[38;5;28;01mdef\u001b[39;00m \u001b[38;5;21mairplane_mode\u001b[39m(app: \u001b[38;5;28mstr\u001b[39m \u001b[38;5;241m=\u001b[39m \u001b[38;5;124m\"\u001b[39m\u001b[38;5;124mmain:app\u001b[39m\u001b[38;5;124m\"\u001b[39m, asset_dir: \u001b[38;5;28mstr\u001b[39m \u001b[38;5;241m=\u001b[39m \u001b[38;5;124m'\u001b[39m\u001b[38;5;124mairplane-assets\u001b[39m\u001b[38;5;124m'\u001b[39m):\n\u001b[1;32m      4\u001b[0m     module_name, app_name \u001b[38;5;241m=\u001b[39m app\u001b[38;5;241m.\u001b[39msplit(\u001b[38;5;124m'\u001b[39m\u001b[38;5;124m:\u001b[39m\u001b[38;5;124m'\u001b[39m)\n\u001b[0;32m----> 5\u001b[0m     module \u001b[38;5;241m=\u001b[39m \u001b[43mimportlib\u001b[49m\u001b[38;5;241;43m.\u001b[39;49m\u001b[43mimport_module\u001b[49m\u001b[43m(\u001b[49m\u001b[43mmodule_name\u001b[49m\u001b[43m)\u001b[49m\n\u001b[1;32m      6\u001b[0m     app \u001b[38;5;241m=\u001b[39m \u001b[38;5;28mgetattr\u001b[39m(module, app_name)\n\u001b[1;32m      7\u001b[0m     pathlib\u001b[38;5;241m.\u001b[39mPath(asset_dir)\u001b[38;5;241m.\u001b[39mmkdir(exist_ok\u001b[38;5;241m=\u001b[39m\u001b[38;5;28;01mTrue\u001b[39;00m)\n",
      "File \u001b[0;32m~/.pyenv/versions/3.12.2/lib/python3.12/importlib/__init__.py:84\u001b[0m, in \u001b[0;36mimport_module\u001b[0;34m(name, package)\u001b[0m\n\u001b[1;32m     82\u001b[0m \u001b[38;5;28;01mif\u001b[39;00m name\u001b[38;5;241m.\u001b[39mstartswith(\u001b[38;5;124m'\u001b[39m\u001b[38;5;124m.\u001b[39m\u001b[38;5;124m'\u001b[39m):\n\u001b[1;32m     83\u001b[0m     \u001b[38;5;28;01mif\u001b[39;00m \u001b[38;5;129;01mnot\u001b[39;00m package:\n\u001b[0;32m---> 84\u001b[0m         \u001b[38;5;28;01mraise\u001b[39;00m \u001b[38;5;167;01mTypeError\u001b[39;00m(\u001b[38;5;124m\"\u001b[39m\u001b[38;5;124mthe \u001b[39m\u001b[38;5;124m'\u001b[39m\u001b[38;5;124mpackage\u001b[39m\u001b[38;5;124m'\u001b[39m\u001b[38;5;124m argument is required to perform a \u001b[39m\u001b[38;5;124m\"\u001b[39m\n\u001b[1;32m     85\u001b[0m                         \u001b[38;5;124mf\u001b[39m\u001b[38;5;124m\"\u001b[39m\u001b[38;5;124mrelative import for \u001b[39m\u001b[38;5;132;01m{\u001b[39;00mname\u001b[38;5;132;01m!r}\u001b[39;00m\u001b[38;5;124m\"\u001b[39m)\n\u001b[1;32m     86\u001b[0m     \u001b[38;5;28;01mfor\u001b[39;00m character \u001b[38;5;129;01min\u001b[39;00m name:\n\u001b[1;32m     87\u001b[0m         \u001b[38;5;28;01mif\u001b[39;00m character \u001b[38;5;241m!=\u001b[39m \u001b[38;5;124m'\u001b[39m\u001b[38;5;124m.\u001b[39m\u001b[38;5;124m'\u001b[39m:\n",
      "\u001b[0;31mTypeError\u001b[0m: the 'package' argument is required to perform a relative import for '.main'"
     ]
    }
   ],
   "source": [
    "hdrs = airplane_mode('.main:app')"
   ]
  },
  {
   "cell_type": "markdown",
   "id": "474e14b4",
   "metadata": {},
   "source": [
    "## Export -"
   ]
  },
  {
   "cell_type": "code",
   "execution_count": null,
   "id": "d211e8e2",
   "metadata": {},
   "outputs": [
    {
     "ename": "ModuleNotFoundError",
     "evalue": "No module named 'nbdev'",
     "output_type": "error",
     "traceback": [
      "\u001b[0;31m---------------------------------------------------------------------------\u001b[0m",
      "\u001b[0;31mModuleNotFoundError\u001b[0m                       Traceback (most recent call last)",
      "Cell \u001b[0;32mIn[8], line 2\u001b[0m\n\u001b[1;32m      1\u001b[0m \u001b[38;5;66;03m#|hide\u001b[39;00m\n\u001b[0;32m----> 2\u001b[0m \u001b[38;5;28;01mimport\u001b[39;00m \u001b[38;5;21;01mnbdev\u001b[39;00m; nbdev\u001b[38;5;241m.\u001b[39mnbdev_export()\n",
      "\u001b[0;31mModuleNotFoundError\u001b[0m: No module named 'nbdev'"
     ]
    }
   ],
   "source": [
    "#|hide\n",
    "import nbdev; nbdev.nbdev_export()"
   ]
  },
  {
   "cell_type": "code",
   "execution_count": null,
   "id": "7b1d43a0",
   "metadata": {},
   "outputs": [],
   "source": []
  }
 ],
 "metadata": {
  "kernelspec": {
   "display_name": "python3",
   "language": "python",
   "name": "python3"
  }
 },
 "nbformat": 4,
 "nbformat_minor": 5
}
