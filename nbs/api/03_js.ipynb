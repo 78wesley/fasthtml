{
 "cells": [
  {
   "cell_type": "code",
   "execution_count": null,
   "metadata": {},
   "outputs": [],
   "source": [
    "#| default_exp js"
   ]
  },
  {
   "cell_type": "markdown",
   "metadata": {},
   "source": [
    "# Javascript and Formatting Components"
   ]
  },
  {
   "cell_type": "markdown",
   "metadata": {},
   "source": [
    "To expedite fast development, FastHTML comes with several built-in Javascript and formatting components."
   ]
  },
  {
   "cell_type": "code",
   "execution_count": null,
   "metadata": {},
   "outputs": [],
   "source": [
    "#| exporti\n",
    "import re\n",
    "from fastcore.utils import *\n",
    "from fasthtml.xtend import Script,jsd,Style,Link"
   ]
  },
  {
   "cell_type": "code",
   "execution_count": null,
   "metadata": {},
   "outputs": [],
   "source": [
    "#| export\n",
    "def light_media(css): return Style('@media (prefers-color-scheme: light) {%s}' %css)"
   ]
  },
  {
   "cell_type": "code",
   "execution_count": null,
   "metadata": {},
   "outputs": [],
   "source": [
    "#| export\n",
    "def  dark_media(css): return Style('@media (prefers-color-scheme:  dark) {%s}' %css)"
   ]
  },
  {
   "cell_type": "code",
   "execution_count": null,
   "metadata": {},
   "outputs": [],
   "source": [
    "#| export\n",
    "marked_imp = \"\"\"import { marked } from \"https://cdn.jsdelivr.net/npm/marked/lib/marked.esm.js\";\n",
    "    import { proc_htmx } from \"https://cdn.jsdelivr.net/gh/answerdotai/fasthtml-js/fasthtml.js\";\n",
    "\"\"\"\n",
    "def MarkdownJS(sel='.marked'):\n",
    "    src = \"proc_htmx('%s', e => e.innerHTML = marked.parse(e.textContent));\" % sel\n",
    "    return Script(marked_imp+src, type='module')"
   ]
  },
  {
   "cell_type": "code",
   "execution_count": null,
   "metadata": {},
   "outputs": [],
   "source": [
    "#| export\n",
    "def KatexMarkdownJS(sel='.marked', inline_delim='$', display_delim='$$', math_envs=None):\n",
    "    math_envs = math_envs or ['equation', 'align', 'gather', 'multline']\n",
    "    env_list = ','.join(f\"'{env}'\" for env in math_envs)\n",
    "\n",
    "    src = r\"\"\"\n",
    "    import katex from \"https://cdn.jsdelivr.net/npm/katex/dist/katex.mjs\";\n",
    "    const renderMath = (tex, displayMode) => { return katex.renderToString(tex, {\n",
    "            throwOnError: false,\n",
    "            displayMode: displayMode,\n",
    "            output: 'html',\n",
    "            trust: true\n",
    "        });\n",
    "    };\n",
    "    const processLatexEnvironments = (content) => {\n",
    "        return content.replace(/\\\\begin{(\\w+)}([\\s\\S]*?)\\\\end{\\1}/g, (match, env, innerContent) => {\n",
    "            if ([%(env_list)s].includes(env)) { return `%(display_delim)s${match}%(display_delim)s`; }\n",
    "            return match;\n",
    "        });\n",
    "    };\n",
    "    proc_htmx('%(sel)s', e => {\n",
    "        let content = processLatexEnvironments(e.textContent);\n",
    "        // Handle display math (including environments)\n",
    "        content = content.replace(/%(display_delim)s([\\s\\S]+?)%(display_delim)s/gm, (_, tex) => renderMath(tex.trim(), true));\n",
    "        // Handle inline math\n",
    "        content = content.replace(/(?<!\\w)%(inline_delim)s([^%(inline_delim)s\\s](?:[^%(inline_delim)s]*[^%(inline_delim)s\\s])?)%(inline_delim)s(?!\\w)/g, (_, tex) => renderMath(tex.trim(), false));\n",
    "        e.innerHTML = marked.parse(content);\n",
    "    });\n",
    "    \"\"\"\n",
    "    format_dict = {\n",
    "        'env_list': env_list,\n",
    "        'sel': sel,\n",
    "        'display_delim': re.escape(display_delim),\n",
    "        'inline_delim': re.escape(inline_delim)\n",
    "    }\n",
    "    formatted_src = src % format_dict\n",
    "    return (Script(marked_imp + formatted_src, type='module'),\n",
    "            Link(rel=\"stylesheet\", href=\"https://cdn.jsdelivr.net/npm/katex@0.16.11/dist/katex.min.css\"))"
   ]
  },
  {
   "cell_type": "code",
   "execution_count": null,
   "metadata": {},
   "outputs": [],
   "source": [
    "#| export\n",
    "def HighlightJS(sel='pre code', langs:str|list|tuple='python', light='atom-one-light', dark='atom-one-dark'):\n",
    "    src = \"\"\"\n",
    "hljs.addPlugin(new CopyButtonPlugin());\n",
    "hljs.configure({'cssSelector': '%s'});\n",
    "htmx.onLoad(hljs.highlightAll);\"\"\" % sel\n",
    "    hjs = 'highlightjs','cdn-release', 'build'\n",
    "    hjc = 'arronhunt'  ,'highlightjs-copy', 'dist'\n",
    "    if isinstance(langs, str): langs = [langs]\n",
    "    langjs = [jsd(*hjs, f'languages/{lang}.min.js') for lang in langs]\n",
    "    return [jsd(*hjs, f'styles/{dark}.css', typ='css', media=\"(prefers-color-scheme: dark)\"),\n",
    "            jsd(*hjs, f'styles/{light}.css', typ='css', media=\"(prefers-color-scheme: light)\"),\n",
    "            jsd(*hjs, f'highlight.min.js'),\n",
    "            jsd(*hjc, 'highlightjs-copy.min.js'),\n",
    "            jsd(*hjc, 'highlightjs-copy.min.css', typ='css'),\n",
    "            light_media('.hljs-copy-button {background-color: #2d2b57;}'),\n",
    "            *langjs, Script(src, type='module')]"
   ]
  },
  {
   "cell_type": "code",
   "execution_count": null,
   "metadata": {},
   "outputs": [],
   "source": [
    "#| export\n",
    "def SortableJS(sel='.sortable', ghost_class='blue-background-class'):\n",
    "    src = \"\"\"\n",
    "import {Sortable} from 'https://cdn.jsdelivr.net/npm/sortablejs/+esm';\n",
    "import {proc_htmx} from \"https://cdn.jsdelivr.net/gh/answerdotai/fasthtml-js/fasthtml.js\";\n",
    "proc_htmx('%s', Sortable.create);\n",
    "\"\"\" % sel\n",
    "    return Script(src, type='module')"
   ]
  }
 ],
 "metadata": {
  "kernelspec": {
   "display_name": "python3",
   "language": "python",
   "name": "python3"
  }
 },
 "nbformat": 4,
 "nbformat_minor": 2
}
