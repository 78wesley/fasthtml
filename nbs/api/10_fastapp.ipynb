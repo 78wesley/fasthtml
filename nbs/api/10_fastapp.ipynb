{
 "cells": [
  {
   "cell_type": "code",
   "execution_count": 1,
   "metadata": {},
   "outputs": [],
   "source": [
    "#| default_exp fastapp"
   ]
  },
  {
   "cell_type": "markdown",
   "metadata": {},
   "source": [
    "# fastapp\n",
    "> The `fast_app` convenience wrapper"
   ]
  },
  {
   "cell_type": "markdown",
   "metadata": {},
   "source": [
    "Usage can be summarized as:\n",
    "\n",
    "```python\n",
    "from fasthtml.common import *\n",
    "\n",
    "app, rt = fast_app()\n",
    "\n",
    "@rt\n",
    "def index(): return Titled(\"A demo of fast_app()@\")\n",
    "\n",
    "serve()\n",
    "```"
   ]
  },
  {
   "cell_type": "code",
   "execution_count": 2,
   "metadata": {},
   "outputs": [],
   "source": [
    "#| export\n",
    "from __future__ import annotations\n",
    "\n",
    "import inspect,uvicorn\n",
    "from fastcore.utils import *\n",
    "from fastlite import *\n",
    "from fasthtml.basics import *\n",
    "from fasthtml.pico import *\n",
    "from fasthtml.starlette import *\n",
    "from fasthtml.live_reload import FastHTMLWithLiveReload\n",
    "from fasthtml.jupyter import _iframe_scr, cors_allow"
   ]
  },
  {
   "cell_type": "code",
   "execution_count": 3,
   "metadata": {},
   "outputs": [],
   "source": [
    "from fasthtml.jupyter import JupyUvi,HTMX"
   ]
  },
  {
   "cell_type": "code",
   "execution_count": 4,
   "metadata": {},
   "outputs": [],
   "source": [
    "#| export\n",
    "def _get_tbl(dt, nm, schema):\n",
    "    render = schema.pop('render', None)\n",
    "    tbl = dt[nm]\n",
    "    if tbl not in dt: tbl.create(**schema)\n",
    "    else: tbl.create(**schema, transform=True)\n",
    "    dc = tbl.dataclass()\n",
    "    if render: dc.__ft__ = render\n",
    "    return tbl,dc"
   ]
  },
  {
   "cell_type": "code",
   "execution_count": 5,
   "metadata": {},
   "outputs": [],
   "source": [
    "#| export\n",
    "def _app_factory(*args, **kwargs) -> FastHTML | FastHTMLWithLiveReload:\n",
    "    \"Creates a FastHTML or FastHTMLWithLiveReload app instance\"\n",
    "    if kwargs.pop('live', False): return FastHTMLWithLiveReload(*args, **kwargs)\n",
    "    kwargs.pop('reload_attempts', None)\n",
    "    kwargs.pop('reload_interval', None)\n",
    "    return FastHTML(*args, **kwargs)"
   ]
  },
  {
   "cell_type": "code",
   "execution_count": 6,
   "metadata": {},
   "outputs": [],
   "source": [
    "#| export\n",
    "def fast_app(\n",
    "        db_file:Optional[str]=None, # Database file name, if needed\n",
    "        render:Optional[callable]=None, # Function used to render default database class\n",
    "        hdrs:Optional[tuple]=None, # Additional FT elements to add to <HEAD>\n",
    "        ftrs:Optional[tuple]=None, # Additional FT elements to add to end of <BODY>\n",
    "        tbls:Optional[dict]=None, # Experimental mapping from DB table names to dict table definitions\n",
    "        before:Optional[tuple]|Beforeware=None, # Functions to call prior to calling handler\n",
    "        middleware:Optional[tuple]=None, # Standard Starlette middleware\n",
    "        live:bool=False, # Enable live reloading\n",
    "        debug:bool=False, # Passed to Starlette, indicating if debug tracebacks should be returned on errors\n",
    "        routes:Optional[tuple]=None, # Passed to Starlette\n",
    "        exception_handlers:Optional[dict]=None, # Passed to Starlette\n",
    "        on_startup:Optional[callable]=None, # Passed to Starlette\n",
    "        on_shutdown:Optional[callable]=None, # Passed to Starlette\n",
    "        lifespan:Optional[callable]=None, # Passed to Starlette\n",
    "        default_hdrs=True, # Include default FastHTML headers such as HTMX script?\n",
    "        pico:Optional[bool]=None, # Include PicoCSS header?\n",
    "        surreal:Optional[bool]=True, # Include surreal.js/scope headers?\n",
    "        htmx:Optional[bool]=True, # Include HTMX header?\n",
    "        ws_hdr:bool=False, # Include HTMX websocket extension header?\n",
    "        secret_key:Optional[str]=None, # Signing key for sessions\n",
    "        key_fname:str='.sesskey', # Session cookie signing key file name\n",
    "        session_cookie:str='session_', # Session cookie name\n",
    "        max_age:int=365*24*3600, # Session cookie expiry time\n",
    "        sess_path:str='/', # Session cookie path\n",
    "        same_site:str='lax', # Session cookie same site policy\n",
    "        sess_https_only:bool=False, # Session cookie HTTPS only?\n",
    "        sess_domain:Optional[str]=None, # Session cookie domain\n",
    "        htmlkw:Optional[dict]=None, # Attrs to add to the HTML tag\n",
    "        bodykw:Optional[dict]=None, # Attrs to add to the Body tag\n",
    "        reload_attempts:Optional[int]=1, # Number of reload attempts when live reloading\n",
    "        reload_interval:Optional[int]=1000, # Time between reload attempts in ms\n",
    "        static_path:str=\".\",  # Where the static file route points to, defaults to root dir\n",
    "        **kwargs)->Any:\n",
    "    \"Create a FastHTML or FastHTMLWithLiveReload app.\"\n",
    "    h = (picolink,) if pico or (pico is None and default_hdrs) else ()\n",
    "    if hdrs: h += tuple(hdrs)\n",
    "\n",
    "    app = _app_factory(hdrs=h, ftrs=ftrs, before=before, middleware=middleware, live=live, debug=debug, routes=routes, exception_handlers=exception_handlers,\n",
    "                  on_startup=on_startup, on_shutdown=on_shutdown, lifespan=lifespan, default_hdrs=default_hdrs, secret_key=secret_key,\n",
    "                  session_cookie=session_cookie, max_age=max_age, sess_path=sess_path, same_site=same_site, sess_https_only=sess_https_only,\n",
    "                  sess_domain=sess_domain, key_fname=key_fname, ws_hdr=ws_hdr, surreal=surreal, htmx=htmx, htmlkw=htmlkw,\n",
    "                  reload_attempts=reload_attempts, reload_interval=reload_interval, **(bodykw or {}))\n",
    "    app.static_route_exts(static_path=static_path)\n",
    "    if not db_file: return app,app.route\n",
    "\n",
    "    db = database(db_file)\n",
    "    if not tbls: tbls={}\n",
    "    if kwargs:\n",
    "        if isinstance(first(kwargs.values()), dict): tbls = kwargs\n",
    "        else:\n",
    "            kwargs['render'] = render\n",
    "            tbls['items'] = kwargs\n",
    "    dbtbls = [_get_tbl(db.t, k, v) for k,v in tbls.items()]\n",
    "    if len(dbtbls)==1: dbtbls=dbtbls[0]\n",
    "    return app,app.route,*dbtbls"
   ]
  },
  {
   "cell_type": "code",
   "execution_count": 7,
   "metadata": {},
   "outputs": [],
   "source": [
    "#| export\n",
    "def jupy_app(pico=False, hdrs=None, middleware=None, **kwargs):\n",
    "    \"Same as `fast_app` but for Jupyter notebooks\"\n",
    "    hdrs = listify(hdrs)+[_iframe_scr]\n",
    "    middleware = listify(middleware)+[cors_allow]\n",
    "    return fast_app(pico=pico, hdrs=hdrs, middleware=middleware, **kwargs)"
   ]
  },
  {
   "cell_type": "code",
   "execution_count": 18,
   "metadata": {},
   "outputs": [],
   "source": [
    "app,rt = jupy_app()\n",
    "server = JupyUvi(app)"
   ]
  },
  {
   "cell_type": "code",
   "execution_count": 21,
   "metadata": {},
   "outputs": [],
   "source": [
    "@rt\n",
    "def index():\n",
    "    return Div(\n",
    "        P(A('Click me', hx_get=update, hx_target='#result')),\n",
    "        P(A('No me!', hx_get=update, hx_target='#result')),\n",
    "        Div(id='result'))\n",
    "\n",
    "@rt\n",
    "def update(): return Div(P('Hi!'),P('Rachel!'))"
   ]
  },
  {
   "cell_type": "code",
   "execution_count": 24,
   "metadata": {},
   "outputs": [],
   "source": [
    "# Run the notebook locally to see the HTMX iframe in action\n",
    "# HTMX()"
   ]
  },
  {
   "cell_type": "code",
   "execution_count": 23,
   "metadata": {},
   "outputs": [],
   "source": [
    "server.stop()"
   ]
  },
  {
   "cell_type": "markdown",
   "metadata": {},
   "source": [
    "## Export -"
   ]
  },
  {
   "cell_type": "code",
   "execution_count": null,
   "metadata": {},
   "outputs": [],
   "source": [
    "#|hide\n",
    "import nbdev; nbdev.nbdev_export()"
   ]
  },
  {
   "cell_type": "code",
   "execution_count": null,
   "metadata": {},
   "outputs": [],
   "source": []
  }
 ],
 "metadata": {
  "kernelspec": {
   "display_name": "Python 3 (ipykernel)",
   "language": "python",
   "name": "python3"
  },
  "language_info": {
   "codemirror_mode": {
    "name": "ipython",
    "version": 3
   },
   "file_extension": ".py",
   "mimetype": "text/x-python",
   "name": "python",
   "nbconvert_exporter": "python",
   "pygments_lexer": "ipython3",
   "version": "3.11.8"
  }
 },
 "nbformat": 4,
 "nbformat_minor": 2
}
