{
 "cells": [
  {
   "cell_type": "markdown",
   "metadata": {},
   "source": [
    "# Explaing **xt** Components"
   ]
  },
  {
   "cell_type": "markdown",
   "metadata": {},
   "source": [
    "_In a nutshell, **xt** components turn Python objects into HTML._"
   ]
  },
  {
   "cell_type": "markdown",
   "metadata": {},
   "source": [
    "xt, or XML Tags, are the display component of FastHTML. In fact, the use of the word \"components\" in the context of FastHTML is often synonymous with xt. \n",
    "\n",
    "For example, when we look at a FastHTML app, in particular the views, as well as various functions and other objects, we see something like the code snippet below. It's the last line of code that we want to pay attention to:"
   ]
  },
  {
   "cell_type": "code",
   "execution_count": null,
   "metadata": {},
   "outputs": [],
   "source": [
    "from fasthtml.common import *\n",
    "\n",
    "def example():\n",
    "    # The code below is a set of xt components\n",
    "    return Div(\n",
    "            H1(\"FastHTML APP\"),\n",
    "            P(\"Let's do this\"),\n",
    "            cls=\"go\"\n",
    "    ) "
   ]
  },
  {
   "cell_type": "markdown",
   "metadata": {},
   "source": [
    "Let's go ahead and call our function and print the result:"
   ]
  },
  {
   "cell_type": "code",
   "execution_count": null,
   "metadata": {},
   "outputs": [
    {
     "data": {
      "text/markdown": [
       "```xml\n",
       "<div class=\"go\">\n",
       "  <h1>FastHTML APP</h1>\n",
       "  <p>Let&#x27;s do this</p>\n",
       "</div>\n",
       "\n",
       "```"
      ],
      "text/plain": [
       "['div',\n",
       " (['h1', ('FastHTML APP',), {}], ['p', (\"Let's do this\",), {}]),\n",
       " {'class': 'go'}]"
      ]
     },
     "execution_count": null,
     "metadata": {},
     "output_type": "execute_result"
    }
   ],
   "source": [
    "example()"
   ]
  },
  {
   "cell_type": "markdown",
   "metadata": {},
   "source": [
    "As you can see, when returned to the user from a Python callable like a function the xt components are transformed into their string representations of XML or XML-like content such as HTML. Or more concisely, _xt turns Python objects into HTML_.\n",
    "\n",
    "Now that we know that xt components look and behave like we can begin to understand them. At their most fundamental level, xt components:\n",
    "\n",
    "1. Are Python callables, specifically functions, classes, methods of classes, lambda functions, and anything else called with parenthesis that returns a value.\n",
    "2. Return a sequence of values which has three elements:\n",
    "    1. The tag to be generated\n",
    "    2. The content of the tag, which is a tuple of strings/tuples. If a tuple it is the three element structure of an xt component\n",
    "    3. A dictionary of XML attributes and their values\n",
    "3. FastHTML's default xt components words begin with an uppercase letter. Examples include `Title()`, `Ul()`, and `Div()` Custom components have included things like `BlogPost` and `CityMap`"
   ]
  },
  {
   "cell_type": "markdown",
   "metadata": {},
   "source": [
    "## How FastHTML names xt component\n",
    "\n",
    "When it comes to naming xt components, FastHTML appears to break from PEP8. Specifically, PEP8 specifies that when naming variables, functions and instantiated classes we use the `snake_case_pattern`. That is to say, lowercase with words seperated by underscores. However, FastHTML insists on using `PascalCase` for xt components.\n",
    "\n",
    "There's several reasons for this:\n",
    "\n",
    "1. xt components can be made from any type of callable, so adhering to any one pattern doesn't make much sense\n",
    "2. It makes for easier reading of FastHTML code, as anything that is PascalCase is probably an xt component"
   ]
  },
  {
   "cell_type": "markdown",
   "metadata": {},
   "source": [
    "## Default **xt** components\n",
    "\n",
    "FastHTML comes with over 150 **xt** components designed to accelerate web development. Most of these mirror HTML tags such as `<div>`, `<p>`, `<a>`, `<title`, and more. However, there are a number of extra tags added, including: \n",
    "\n",
    "- `Titled`, a combination of the `Title()` and `H1()` tags\n",
    "- `Socials`, renders popular social media tags\n",
    "\n"
   ]
  },
  {
   "cell_type": "markdown",
   "metadata": {},
   "source": [
    "## The `fasthtml.xt` Namespace\n",
    "\n",
    "Some people prefer to write code using namespaces while adhering to PEP8. If that's a preference, projects can be coded using the `fasthtml.xt` namespace."
   ]
  },
  {
   "cell_type": "code",
   "execution_count": null,
   "metadata": {},
   "outputs": [
    {
     "data": {
      "text/markdown": [
       "```xml\n",
       "<ul>\n",
       "  <li>one</li>\n",
       "  <li>two</li>\n",
       "  <li>three</li>\n",
       "</ul>\n",
       "\n",
       "```"
      ],
      "text/plain": [
       "['ul',\n",
       " (['li', ('one',), {}], ['li', ('two',), {}], ['li', ('three',), {}]),\n",
       " {}]"
      ]
     },
     "execution_count": null,
     "metadata": {},
     "output_type": "execute_result"
    }
   ],
   "source": [
    "from fasthtml import xt\n",
    "\n",
    "xt.Ul(\n",
    "    xt.Li(\"one\"),\n",
    "    xt.Li(\"two\"),\n",
    "    xt.Li(\"three\")\n",
    ")"
   ]
  },
  {
   "cell_type": "markdown",
   "metadata": {},
   "source": [
    "## Attributes\n",
    "\n",
    "This example demonstrates three important things to know about how xt components handle attributes.\n",
    "\n",
    "```{.python code-line-numbers=\"true\"}\n",
    "Select(\n",
    "    Option(\"one\", value=\"1\", selected=True), # <1>\n",
    "    Option(\"two\", value=\"2\", selected=False), # <2>\n",
    "    Option(\"three\", value=3),  # <3>\n",
    "    cls=\"selector\",  # <4>\n",
    "    **{'@click':\"alert('Clicked');\"} # <5>\n",
    ")\n",
    "```\n",
    "\n",
    "1. On line 2, we can see that attributes set to the `boolean` value of `True` are rendered with just the name of the attribute\n",
    "2. On line 3, we demonstration that attributes set to the `boolean` value of `False` do not appear in the rendered output\n",
    "3. On line 4 is an example of how integers and other non-string values are in the rendered output are converted to strings \n",
    "4. On line 5 we set the HTML class using the `cls` argument. We use `cls` here as `class` is a reserved word in Python. During the rendering process this will be converted to the word \"class\"\n",
    "5. On line 6 we have an attribute name that cannot be represented as a python variable. We can use an unpacked `dict` in these cases to represent these values.\n",
    "\n",
    "This renders the following HTML snippet:"
   ]
  },
  {
   "cell_type": "code",
   "execution_count": null,
   "metadata": {},
   "outputs": [
    {
     "data": {
      "text/markdown": [
       "```xml\n",
       "<select @click=\"alert(&#x27;Clicked&#x27;);\" class=\"selector\">\n",
       "  <option value=\"1\" selected>one</option>\n",
       "  <option value=\"2\" >two</option>\n",
       "  <option value=\"3\">three</option>\n",
       "</select>\n",
       "\n",
       "```"
      ],
      "text/plain": [
       "['select',\n",
       " (['option', ('one',), {'value': '1', 'selected': True}],\n",
       "  ['option', ('two',), {'value': '2', 'selected': False}],\n",
       "  ['option', ('three',), {'value': 3}]),\n",
       " {'@click': \"alert('Clicked');\", 'class': 'selector'}]"
      ]
     },
     "execution_count": null,
     "metadata": {},
     "output_type": "execute_result"
    }
   ],
   "source": [
    "#| echo: False\n",
    "Select(\n",
    "    Option(\"one\", value=\"1\", selected=True), # <1>\n",
    "    Option(\"two\", value=\"2\", selected=False), # <2>\n",
    "    Option(\"three\", value=3),  # <3>\n",
    "    cls=\"selector\",  # <4>\n",
    "    **{'@click':\"alert('Clicked');\"} # <5>\n",
    ")"
   ]
  }
 ],
 "metadata": {
  "kernelspec": {
   "display_name": "python3",
   "language": "python",
   "name": "python3"
  }
 },
 "nbformat": 4,
 "nbformat_minor": 4
}
