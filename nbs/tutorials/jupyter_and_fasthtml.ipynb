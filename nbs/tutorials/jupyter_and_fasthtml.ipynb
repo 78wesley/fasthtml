{
 "cells": [
  {
   "cell_type": "markdown",
   "id": "2a2294a7",
   "metadata": {},
   "source": [
    "# Using Jupyter to write FastHTML"
   ]
  },
  {
   "cell_type": "markdown",
   "id": "4b1ee344",
   "metadata": {},
   "source": [
    "To wrote FastHTML applications in Jupyter notebooks requires a slightly different process than normal Python applications. "
   ]
  },
  {
   "cell_type": "markdown",
   "id": "a6ef2da3",
   "metadata": {},
   "source": [
    ":::{.callout-note}\n",
    "The source code for this page is a [Jupyter notebook](https://github.com/AnswerDotAI/fasthtml/blob/main/nbs/tutorials/jupyter_and_fasthtml.ipynb). That makes it easy to directly experiment with it.\n",
    ":::"
   ]
  },
  {
   "cell_type": "markdown",
   "id": "3bdd7e4a",
   "metadata": {},
   "source": [
    "The first step is to import necessary libraries. As using FastHTML inside a Jupyter notebook is a special case, it remains a special import. "
   ]
  },
  {
   "cell_type": "code",
   "execution_count": 3,
   "id": "e244a34a",
   "metadata": {},
   "outputs": [],
   "source": [
    "from fasthtml.common import *\n",
    "from fasthtml.jupyter import *"
   ]
  },
  {
   "cell_type": "markdown",
   "id": "7f38039a",
   "metadata": {},
   "source": [
    "Let's use `jupy_app` to instantiate `app` and `rt` objects. `jupy_app` is a thin wrapper around the `fast_app` function."
   ]
  },
  {
   "cell_type": "code",
   "execution_count": 7,
   "id": "631895d3",
   "metadata": {},
   "outputs": [],
   "source": [
    "app, rt = jupy_app()"
   ]
  },
  {
   "cell_type": "markdown",
   "id": "30fc1b5d",
   "metadata": {},
   "source": [
    "Set the `port` in a variable so it can be more easily shared between objects."
   ]
  },
  {
   "cell_type": "markdown",
   "id": "d24f2972",
   "metadata": {},
   "source": [
    "Define a route to test the application."
   ]
  },
  {
   "cell_type": "code",
   "execution_count": 15,
   "id": "82f14ebd",
   "metadata": {},
   "outputs": [],
   "source": [
    "@rt\n",
    "def index():\n",
    "    return Titled('Hello, Jupyter',\n",
    "           P('Welcome to the Jupyter example!')\n",
    "    )"
   ]
  },
  {
   "cell_type": "code",
   "execution_count": 8,
   "id": "3f6c3577",
   "metadata": {},
   "outputs": [],
   "source": [
    "port = 8000"
   ]
  },
  {
   "cell_type": "markdown",
   "id": "e512dbab",
   "metadata": {},
   "source": [
    "Now create a server object using `JupyUvi`, which also starts the Uvicorn server. It runs in a separate thread, so you can use normal HTTP client functions in a notebook."
   ]
  },
  {
   "cell_type": "code",
   "execution_count": 9,
   "id": "3b815c60",
   "metadata": {},
   "outputs": [],
   "source": [
    "# server = JupyUvi(app, port=port)"
   ]
  },
  {
   "cell_type": "code",
   "execution_count": 14,
   "id": "e7d4e6fa",
   "metadata": {},
   "outputs": [
    {
     "data": {
      "text/html": [
       "<iframe src=\"http://localhost:8000\" style=\"width: 100%; height: auto; border: none;\" onload=\"{\n",
       "        let frame = this;\n",
       "        window.addEventListener('message', function(e) {\n",
       "            if (e.data.height) frame.style.height = (e.data.height+1) + 'px';\n",
       "        }, false);\n",
       "    }\" allow=\"accelerometer; autoplay; camera; clipboard-read; clipboard-write; display-capture; encrypted-media; fullscreen; gamepad; geolocation; gyroscope; hid; identity-credentials-get; idle-detection; magnetometer; microphone; midi; payment; picture-in-picture; publickey-credentials-get; screen-wake-lock; serial; usb; web-share; xr-spatial-tracking\"></iframe> "
      ],
      "text/plain": [
       "<IPython.core.display.HTML object>"
      ]
     },
     "execution_count": 14,
     "metadata": {},
     "output_type": "execute_result"
    }
   ],
   "source": [
    "HTMX(port=port)"
   ]
  },
  {
   "cell_type": "code",
   "execution_count": null,
   "id": "6650d9bc",
   "metadata": {},
   "outputs": [],
   "source": []
  }
 ],
 "metadata": {
  "kernelspec": {
   "display_name": "Python 3 (ipykernel)",
   "language": "python",
   "name": "python3"
  },
  "language_info": {
   "codemirror_mode": {
    "name": "ipython",
    "version": 3
   },
   "file_extension": ".py",
   "mimetype": "text/x-python",
   "name": "python",
   "nbconvert_exporter": "python",
   "pygments_lexer": "ipython3",
   "version": "3.10.15"
  }
 },
 "nbformat": 4,
 "nbformat_minor": 5
}
