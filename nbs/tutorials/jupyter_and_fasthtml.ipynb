{
 "cells": [
  {
   "cell_type": "markdown",
   "id": "2a2294a7",
   "metadata": {},
   "source": [
    "# Using Jupyter to write FastHTML"
   ]
  },
  {
   "cell_type": "markdown",
   "id": "4b1ee344",
   "metadata": {},
   "source": [
    "This Jupyter notebook demonstrates how to build FastHTML applications efficiently. You can fork this notebook to experiment with writing FastHTML apps directly in a familiar Jupyter environment."
   ]
  },
  {
   "cell_type": "markdown",
   "id": "a6ef2da3",
   "metadata": {},
   "source": [
    ":::{.callout-note}\n",
    "This tutorial is only for writing FastHTML apps in Jupyter. It does not apply to writing FastHTML apps in Python modules (files ending with `.py`).\n",
    ":::"
   ]
  },
  {
   "cell_type": "markdown",
   "id": "3bdd7e4a",
   "metadata": {},
   "source": [
    "The first step is to import necessary libraries. As writing FastHTML is a special case, Jupyter is a seperate import. "
   ]
  },
  {
   "cell_type": "code",
   "execution_count": null,
   "id": "e244a34a",
   "metadata": {},
   "outputs": [],
   "source": [
    "from fasthtml.common import *\n",
    "from fasthtml.jupyter import *"
   ]
  }
 ],
 "metadata": {
  "kernelspec": {
   "display_name": "Python 3 (ipykernel)",
   "language": "python",
   "name": "python3"
  },
  "language_info": {
   "codemirror_mode": {
    "name": "ipython",
    "version": 3
   },
   "file_extension": ".py",
   "mimetype": "text/x-python",
   "name": "python",
   "nbconvert_exporter": "python",
   "pygments_lexer": "ipython3",
   "version": "3.10.15"
  }
 },
 "nbformat": 4,
 "nbformat_minor": 5
}
