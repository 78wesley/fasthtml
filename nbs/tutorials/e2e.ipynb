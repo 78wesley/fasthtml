{
 "cells": [
  {
   "cell_type": "markdown",
   "metadata": {},
   "source": [
    "# End-To-End Walkthrough\n",
    "\n",
    "> How to build a website in FastHTML step-by-step\n",
    "- order: 1\n",
    "- image: ../images/card.png\n",
    "- aliases: [/tutorial.html]"
   ]
  },
  {
   "cell_type": "code",
   "execution_count": null,
   "metadata": {
    "hide_input": false
   },
   "outputs": [],
   "source": [
    "#|hide\n",
    "from nbdev.showdoc import show_doc\n",
    "from nbdev.qmd import div"
   ]
  },
  {
   "cell_type": "markdown",
   "metadata": {},
   "source": [
    "The written tutorial below shows you how to create a Python package from scratch using nbdev.\n",
    "\n",
    "Alternatively, you can watch this video tutorial where Jeremy Howard and Hamel Husain guide you through a similar process step by step:"
   ]
  },
  {
   "cell_type": "markdown",
   "metadata": {},
   "source": [
    "::: {.text-center}\n",
    "\n",
    "<iframe width=\"560\" height=\"315\" src=\"https://www.youtube-nocookie.com/embed/l7zS8Ld4_iA\" frameborder=\"0\" allow=\"accelerometer; autoplay; encrypted-media; gyroscope; picture-in-picture\" allowfullscreen style=\"max-width: 100%; margin: auto\" class=\"rounded\"></iframe>\n",
    "\n",
    ":::"
   ]
  },
  {
   "cell_type": "markdown",
   "metadata": {},
   "source": [
    "## Installation"
   ]
  },
  {
   "cell_type": "markdown",
   "metadata": {},
   "source": [
    "You'll need the following software to complete the tutorial, read on for specific installation instructions:\n",
    "\n",
    "1. Python\n",
    "2. A Python package manager: we recommend conda or pip\n",
    "3. FastHTML\n",
    "4. Web browswer\n",
    "5. Railway.app account\n",
    "\n",
    "If you haven't worked with Python before, we recommend getting started with the [Anaconda Individual Edition](https://www.anaconda.com/products/individual) and using the conda package manager.\n",
    "\n",
    "Note that you will only need to follow the steps in the installation section once per environment. If you create a new repo, you won't need to redo these."
   ]
  },
  {
   "cell_type": "markdown",
   "metadata": {},
   "source": [
    "### Install FastHTML"
   ]
  },
  {
   "cell_type": "markdown",
   "metadata": {},
   "source": [
    "The next step is to install nbdev itself. JupyterLab comes with its own terminal, so we'll use that moving forward.\n",
    "\n",
    "In the Launcher, scroll down to the \"Other\" section, then click \"Terminal\". If the Launcher isn't opened, you can open it by clicking \"File\" → \"New Launcher\".\n",
    "\n",
    "A new tab should open with a blank terminal -- it might not look exactly the same, depending on how your shell is configured:"
   ]
  },
  {
   "cell_type": "markdown",
   "metadata": {},
   "source": [
    "![](images/jupyter-blank-terminal.png){fig-align=\"center\"}"
   ]
  },
  {
   "cell_type": "markdown",
   "metadata": {},
   "source": [
    "For Mac, Windows and Linux, enter:\n",
    "\n",
    "```sh\n",
    "pip install python-fasthtml\n",
    "```"
   ]
  },
  {
   "cell_type": "markdown",
   "metadata": {},
   "source": [
    "## First steps"
   ]
  },
  {
   "cell_type": "markdown",
   "metadata": {},
   "source": [
    "By the end of this section you'll have your own FastHTML website with tests deployed to railway.app."
   ]
  },
  {
   "cell_type": "markdown",
   "metadata": {},
   "source": [
    "### Create a hello world"
   ]
  },
  {
   "cell_type": "markdown",
   "metadata": {},
   "source": [
    "Get a fresh folder to put all of your files for your new project in and in it place a single `main.py` with the following code:\n",
    "\n",
    "```python\n",
    "from fasthtml.common import *\n",
    "\n",
    "app = FastHTML()\n",
    "rt = app.route\n",
    "\n",
    "@rt('/')\n",
    "def get():\n",
    "    return 'Hello, world!'\n",
    "\n",
    "run_uv()\n",
    "```\n",
    "\n",
    "Finally, run `python main.py` in your terminal and open your browser to the linked printed."
   ]
  },
  {
   "cell_type": "markdown",
   "metadata": {},
   "source": [
    "In addition to viewing the site in a browswer, you can use a test client from starlette, which we will be taking advantage of for our tests. Open a new file named `test.py` and place the following code in it:\n",
    "\n",
    "```python\n",
    "from starlette.testclient import TestClient\n",
    "\n",
    "client = TestClient(app)\n",
    "r = client.get('/')\n",
    "print(r)\n",
    "```"
   ]
  },
  {
   "cell_type": "markdown",
   "metadata": {},
   "source": [
    "### QuickDraw: A FastHTML Adventure 🎨✨\n",
    "\n",
    "The end website of this tutorial will be QuickDraw, a real-time collaborative drawing app using FastHTML. Here is what the final site will look like:\n",
    "\n",
    "(IMAGE)\n",
    "\n",
    "#### Drawing Rooms\n",
    "\n",
    "Draw rooms are the core concept of our application. Each room represents a separate drawing space where multiple users can collaborate in real-time. Here's a detailed breakdown:\n",
    "\n",
    "1. Room Creation and Storage\n",
    "\n",
    "```python\n",
    "db = database('data/drawapp.db')\n",
    "rooms = db.t.rooms\n",
    "if rooms not in db.t:\n",
    "    rooms.create(id=int, name=str, created_at=str, pk='id')\n",
    "Room = rooms.dataclass()\n",
    "```\n",
    "\n",
    "* We're using a SQLite database (via FastLite) to store our rooms.\n",
    "* Each room has an id (integer), a name (string), and a created_at timestamp (string).\n",
    "* The Room dataclass is automatically generated based on this structure.\n",
    "\n",
    "2. Creating a room\n",
    "\n",
    "```python\n",
    "@rt(\"/\")\n",
    "def get():\n",
    "    create_room = Form(Input(id=\"room-name\", name=\"name\", placeholder=\"New Room Name\"),\n",
    "                       Button(\"Create Room\"),\n",
    "                       hx_post=\"/rooms\", hx_target=\"#rooms-list\", hx_swap=\"afterbegin\")\n",
    "    rooms_list = Ul(*rooms(order_by='id DESC'), id='rooms-list')\n",
    "    return Titled(\"DrawCollab\", \n",
    "                  H1(\"DrawCollab\"),\n",
    "                  create_room, rooms_list)\n",
    "\n",
    "@rt(\"/rooms\")\n",
    "async def post(room:Room):\n",
    "    room.created_at = datetime.now().isoformat()\n",
    "    new_room = rooms.insert(room)\n",
    "    return Li(A(new_room.name, href=f\"/rooms/{new_room.id}\"))\n",
    "```\n",
    "\n",
    "* When a user submits the \"Create Room\" form, this route is called.\n",
    "* It creates a new Room object, sets the creation time, and inserts it into the database.\n",
    "* It returns an HTML list item with a link to the new room, which is dynamically added to the room list on the homepage thanks to HTMX.\n",
    "\n",
    "3. Let's give our rooms shape\n",
    "\n",
    "```python\n",
    "@rt(\"/rooms/{id}\")\n",
    "async def get(id:int):\n",
    "    room = rooms[id]\n",
    "    return Titled(f\"Room: {room.name}\", H1(f\"Welcome to {room.name}\"), P(\"Drawing canvas coming soon!\"))\n",
    "```\n",
    "\n",
    "* This route renders the interface for a specific room.\n",
    "* It fetches the room from the database and renders a title, heading, and paragraph.\n",
    "\n",
    "\n",
    "Here is the full code so far:\n",
    "```python\n",
    "from fasthtml.common import *\n",
    "from datetime import datetime\n",
    "\n",
    "db = database('data/drawapp.db')\n",
    "rooms = db.t.rooms\n",
    "if rooms not in db.t:\n",
    "    rooms.create(id=int, name=str, created_at=str, pk='id')\n",
    "Room = rooms.dataclass()\n",
    "\n",
    "app = FastHTML(hdrs=(picolink,))\n",
    "rt = app.route\n",
    "\n",
    "@rt(\"/\")\n",
    "def get():\n",
    "    create_room = Form(Input(id=\"room-name\", name=\"name\", placeholder=\"New Room Name\"),\n",
    "                       Button(\"Create Room\"),\n",
    "                       hx_post=\"/rooms\", hx_target=\"#rooms-list\", hx_swap=\"afterbegin\")\n",
    "    rooms_list = Ul(*rooms(order_by='id DESC'), id='rooms-list')\n",
    "    return Titled(\"DrawCollab\", \n",
    "                  H1(\"DrawCollab\"),\n",
    "                  create_room, rooms_list)\n",
    "\n",
    "@rt(\"/rooms\")\n",
    "async def post(room:Room):\n",
    "    room.created_at = datetime.now().isoformat()\n",
    "    new_room = rooms.insert(room)\n",
    "    return Li(A(new_room.name, href=f\"/rooms/{new_room.id}\"))\n",
    "\n",
    "@rt(\"/rooms/{id}\")\n",
    "async def get(id:int):\n",
    "    room = rooms[id]\n",
    "    return Titled(f\"Room: {room.name}\", H1(f\"Welcome to {room.name}\"), P(\"Drawing canvas coming soon!\"))\n",
    "\n",
    "if __name__ == \"__main__\": run_uv()\n",
    "```\n",
    "\n",
    "Now run `python main.py` in your terminal and open your browser to the linked printed. You should see a page with a form to create a new room and a list of existing rooms."
   ]
  },
  {
   "cell_type": "markdown",
   "metadata": {},
   "source": [
    "#### The Canvas - Let's Get Drawing! 🖌️\n",
    "\n",
    "Time to add the actual drawing functionality. We'll use Fabric.js for this:\n",
    "```python\n",
    "# ... (keep the previous imports and database setup)\n",
    "\n",
    "@rt(\"/rooms/{id}\")\n",
    "async def get(id:int):\n",
    "    room = rooms[id]\n",
    "    canvas = Div(id=\"canvas\")\n",
    "    color_picker = Input(type=\"color\", id=\"color-picker\", value=\"#000000\")\n",
    "    brush_size = Input(type=\"range\", id=\"brush-size\", min=\"1\", max=\"50\", value=\"10\")\n",
    "    \n",
    "    js = \"\"\"\n",
    "    var canvas = new fabric.Canvas('canvas');\n",
    "    canvas.isDrawingMode = true;\n",
    "    canvas.freeDrawingBrush.color = '#000000';\n",
    "    canvas.freeDrawingBrush.width = 10;\n",
    "    \n",
    "    document.getElementById('color-picker').onchange = function() {\n",
    "        canvas.freeDrawingBrush.color = this.value;\n",
    "    };\n",
    "    \n",
    "    document.getElementById('brush-size').oninput = function() {\n",
    "        canvas.freeDrawingBrush.width = parseInt(this.value, 10);\n",
    "    };\n",
    "    \"\"\"\n",
    "    \n",
    "    return Titled(f\"Room: {room.name}\",\n",
    "                  canvas,\n",
    "                  Div(color_picker, brush_size),\n",
    "                  Script(src=\"https://cdnjs.cloudflare.com/ajax/libs/fabric.js/5.3.1/fabric.min.js\"),\n",
    "                  Script(js))\n",
    "\n",
    "# ... (keep the run_uv() part)\n",
    "```\n",
    "\n",
    "Now we've got a drawing canvas! FastHTML makes it easy to include external libraries and add custom JavaScript."
   ]
  },
  {
   "cell_type": "markdown",
   "metadata": {},
   "source": [
    "### Deploying to Railway\n",
    "\n",
    "You can deploy your website to a number of hosting providers, for this tutorial we'll be using Railway.\n",
    "\n",
    "1. Create a Railway account\n",
    "2. Install the Railway CLI\n",
    "3. Deploy your website\n",
    "\n",
    "To make deploying your website as easy as possible, FastHTMl comes with a built in CLI tool that will handle most of the deployment process for you.\n",
    "\n",
    "To deploy your website, run the following command in your terminal:\n",
    "\n",
    "```sh\n",
    "fh_railway_deploy\n",
    "```"
   ]
  },
  {
   "cell_type": "markdown",
   "metadata": {},
   "source": [
    "### Conclusion: You're a FastHTML Artist Now! 🎨🚀\n",
    "\n",
    "Congratulations! You've just built a sleek, interactive web application using FastHTML. Let's recap what we've learned:\n",
    "\n",
    "FastHTML allows you to create dynamic web apps with minimal code.\n",
    "HTMX integration enables seamless, partial page updates without full reloads.\n",
    "WebSockets power real-time communication between clients and the server.\n",
    "FastHTML plays well with external libraries like Fabric.js, allowing you to create rich, interactive experiences.\n",
    "Building complex UI components and real-time features is a breeze with FastHTML.\n",
    "\n",
    "You've taken your first steps into the world of FastHTML development. From here, the possibilities are endless! Maybe add the ability to save drawings, implement different drawing tools, or even add a gallery of completed masterpieces. Whatever you choose to build next, FastHTML has got your back.\n",
    "Now go forth and create something awesome! And remember, in the world of web development, as in art, there are no bugs - only features waiting to be discovered. Happy coding! 🖼️🚀"
   ]
  }
 ],
 "metadata": {
  "jupytext": {
   "split_at_heading": true
  },
  "kernelspec": {
   "display_name": "python3",
   "language": "python",
   "name": "python3"
  },
  "widgets": {
   "application/vnd.jupyter.widget-state+json": {
    "state": {},
    "version_major": 2,
    "version_minor": 0
   }
  }
 },
 "nbformat": 4,
 "nbformat_minor": 4
}
